{
 "cells": [
  {
   "cell_type": "markdown",
   "metadata": {
    "id": "TdhUG6Vrmvi9"
   },
   "source": [
    " # Code Assessment"
   ]
  },
  {
   "cell_type": "markdown",
   "metadata": {
    "id": "Enbj0gi9mvjC"
   },
   "source": [
    "Data Science team is building a data science platform which provides framework for end-to-end implementation of machine learning pipelines. The framework will be built using python in an object oriented programming style. Furthermore, we want to implement everything using the scikit learn API, all implementations confined to fit, transform, and predict methods. This will allow us to implement machine learning pipelines using the scikit learn pipelines. As such, the assessment will evaluate candidates’ ability to transform codebase prepared in procedural programming to object oriented programming, specifically using the scikit learn API as much as possible.\n",
    "\n",
    "The following two cells contain a procedural implementation of feature engineering. In the subsequent cells it is your task to refactor the procedural implementation into an object oriented framework\n",
    "\n",
    "More information about the scikit learn API can be found:\n",
    "\n",
    "- https://scikit-learn.org/stable/modules/generated/sklearn.pipeline.Pipeline.html\n",
    "- https://scikit-learn.org/dev/developers/contributing.html#rolling-your-own-estimator\n",
    "- http://danielhnyk.cz/creating-your-own-estimator-scikit-learn/\n",
    "\n",
    "*If we are not able to run or replicate your code/steps, we will not grade your assessment.*"
   ]
  },
  {
   "cell_type": "code",
   "execution_count": null,
   "metadata": {
    "id": "7s1PcVEFmvjE"
   },
   "outputs": [],
   "source": [
    "import pandas as pd\n",
    "import numpy as np\n",
    "import datetime\n",
    "from matplotlib import pyplot as plt\n",
    "from sklearn import preprocessing\n",
    "\n",
    "data = pd.read_csv('fraud_final_dataset.csv')"
   ]
  },
  {
   "cell_type": "code",
   "execution_count": null,
   "metadata": {
    "colab": {
     "base_uri": "https://localhost:8080/",
     "height": 206
    },
    "id": "gzeraN1bmvjG",
    "outputId": "0be7fc01-0081-4ea4-c965-4295f71cd889"
   },
   "outputs": [
    {
     "data": {
      "text/html": [
       "\n",
       "  <div id=\"df-e6f3440c-db77-463c-bf17-3ddcdc828d63\">\n",
       "    <div class=\"colab-df-container\">\n",
       "      <div>\n",
       "<style scoped>\n",
       "    .dataframe tbody tr th:only-of-type {\n",
       "        vertical-align: middle;\n",
       "    }\n",
       "\n",
       "    .dataframe tbody tr th {\n",
       "        vertical-align: top;\n",
       "    }\n",
       "\n",
       "    .dataframe thead th {\n",
       "        text-align: right;\n",
       "    }\n",
       "</style>\n",
       "<table border=\"1\" class=\"dataframe\">\n",
       "  <thead>\n",
       "    <tr style=\"text-align: right;\">\n",
       "      <th></th>\n",
       "      <th>user_id</th>\n",
       "      <th>signup_time</th>\n",
       "      <th>purchase_time</th>\n",
       "      <th>elapsed_time</th>\n",
       "      <th>purchase_value</th>\n",
       "      <th>device_id</th>\n",
       "      <th>source</th>\n",
       "      <th>browser</th>\n",
       "      <th>sex</th>\n",
       "      <th>age</th>\n",
       "      <th>ip_address</th>\n",
       "      <th>class</th>\n",
       "      <th>country</th>\n",
       "    </tr>\n",
       "  </thead>\n",
       "  <tbody>\n",
       "    <tr>\n",
       "      <th>0</th>\n",
       "      <td>285108</td>\n",
       "      <td>7/15/2015 4:36</td>\n",
       "      <td>9/10/2015 14:17</td>\n",
       "      <td>2</td>\n",
       "      <td>31</td>\n",
       "      <td>HZAKVUFTDOSFD</td>\n",
       "      <td>Direct</td>\n",
       "      <td>Chrome</td>\n",
       "      <td>M</td>\n",
       "      <td>49</td>\n",
       "      <td>2.818400e+09</td>\n",
       "      <td>0</td>\n",
       "      <td>United States</td>\n",
       "    </tr>\n",
       "    <tr>\n",
       "      <th>1</th>\n",
       "      <td>131009</td>\n",
       "      <td>1/24/2015 12:29</td>\n",
       "      <td>4/13/2015 4:53</td>\n",
       "      <td>3</td>\n",
       "      <td>31</td>\n",
       "      <td>XGQAJSOUJIZCC</td>\n",
       "      <td>SEO</td>\n",
       "      <td>IE</td>\n",
       "      <td>F</td>\n",
       "      <td>21</td>\n",
       "      <td>3.251268e+09</td>\n",
       "      <td>0</td>\n",
       "      <td>United Kingdom</td>\n",
       "    </tr>\n",
       "    <tr>\n",
       "      <th>2</th>\n",
       "      <td>328855</td>\n",
       "      <td>3/11/2015 0:54</td>\n",
       "      <td>4/5/2015 12:23</td>\n",
       "      <td>1</td>\n",
       "      <td>16</td>\n",
       "      <td>VCCTAYDCWKZIY</td>\n",
       "      <td>Direct</td>\n",
       "      <td>IE</td>\n",
       "      <td>M</td>\n",
       "      <td>26</td>\n",
       "      <td>2.727760e+09</td>\n",
       "      <td>0</td>\n",
       "      <td>United States</td>\n",
       "    </tr>\n",
       "    <tr>\n",
       "      <th>3</th>\n",
       "      <td>229053</td>\n",
       "      <td>1/7/2015 13:19</td>\n",
       "      <td>1/9/2015 10:12</td>\n",
       "      <td>0</td>\n",
       "      <td>29</td>\n",
       "      <td>MFFIHYNXCJLEY</td>\n",
       "      <td>SEO</td>\n",
       "      <td>Chrome</td>\n",
       "      <td>M</td>\n",
       "      <td>34</td>\n",
       "      <td>2.083420e+09</td>\n",
       "      <td>0</td>\n",
       "      <td>Korea Republic of</td>\n",
       "    </tr>\n",
       "    <tr>\n",
       "      <th>4</th>\n",
       "      <td>108439</td>\n",
       "      <td>2/8/2015 21:11</td>\n",
       "      <td>4/9/2015 14:26</td>\n",
       "      <td>2</td>\n",
       "      <td>26</td>\n",
       "      <td>WMSXWGVPNIFBM</td>\n",
       "      <td>Ads</td>\n",
       "      <td>FireFox</td>\n",
       "      <td>M</td>\n",
       "      <td>33</td>\n",
       "      <td>3.207913e+09</td>\n",
       "      <td>0</td>\n",
       "      <td>Brazil</td>\n",
       "    </tr>\n",
       "  </tbody>\n",
       "</table>\n",
       "</div>\n",
       "      <button class=\"colab-df-convert\" onclick=\"convertToInteractive('df-e6f3440c-db77-463c-bf17-3ddcdc828d63')\"\n",
       "              title=\"Convert this dataframe to an interactive table.\"\n",
       "              style=\"display:none;\">\n",
       "        \n",
       "  <svg xmlns=\"http://www.w3.org/2000/svg\" height=\"24px\"viewBox=\"0 0 24 24\"\n",
       "       width=\"24px\">\n",
       "    <path d=\"M0 0h24v24H0V0z\" fill=\"none\"/>\n",
       "    <path d=\"M18.56 5.44l.94 2.06.94-2.06 2.06-.94-2.06-.94-.94-2.06-.94 2.06-2.06.94zm-11 1L8.5 8.5l.94-2.06 2.06-.94-2.06-.94L8.5 2.5l-.94 2.06-2.06.94zm10 10l.94 2.06.94-2.06 2.06-.94-2.06-.94-.94-2.06-.94 2.06-2.06.94z\"/><path d=\"M17.41 7.96l-1.37-1.37c-.4-.4-.92-.59-1.43-.59-.52 0-1.04.2-1.43.59L10.3 9.45l-7.72 7.72c-.78.78-.78 2.05 0 2.83L4 21.41c.39.39.9.59 1.41.59.51 0 1.02-.2 1.41-.59l7.78-7.78 2.81-2.81c.8-.78.8-2.07 0-2.86zM5.41 20L4 18.59l7.72-7.72 1.47 1.35L5.41 20z\"/>\n",
       "  </svg>\n",
       "      </button>\n",
       "      \n",
       "  <style>\n",
       "    .colab-df-container {\n",
       "      display:flex;\n",
       "      flex-wrap:wrap;\n",
       "      gap: 12px;\n",
       "    }\n",
       "\n",
       "    .colab-df-convert {\n",
       "      background-color: #E8F0FE;\n",
       "      border: none;\n",
       "      border-radius: 50%;\n",
       "      cursor: pointer;\n",
       "      display: none;\n",
       "      fill: #1967D2;\n",
       "      height: 32px;\n",
       "      padding: 0 0 0 0;\n",
       "      width: 32px;\n",
       "    }\n",
       "\n",
       "    .colab-df-convert:hover {\n",
       "      background-color: #E2EBFA;\n",
       "      box-shadow: 0px 1px 2px rgba(60, 64, 67, 0.3), 0px 1px 3px 1px rgba(60, 64, 67, 0.15);\n",
       "      fill: #174EA6;\n",
       "    }\n",
       "\n",
       "    [theme=dark] .colab-df-convert {\n",
       "      background-color: #3B4455;\n",
       "      fill: #D2E3FC;\n",
       "    }\n",
       "\n",
       "    [theme=dark] .colab-df-convert:hover {\n",
       "      background-color: #434B5C;\n",
       "      box-shadow: 0px 1px 3px 1px rgba(0, 0, 0, 0.15);\n",
       "      filter: drop-shadow(0px 1px 2px rgba(0, 0, 0, 0.3));\n",
       "      fill: #FFFFFF;\n",
       "    }\n",
       "  </style>\n",
       "\n",
       "      <script>\n",
       "        const buttonEl =\n",
       "          document.querySelector('#df-e6f3440c-db77-463c-bf17-3ddcdc828d63 button.colab-df-convert');\n",
       "        buttonEl.style.display =\n",
       "          google.colab.kernel.accessAllowed ? 'block' : 'none';\n",
       "\n",
       "        async function convertToInteractive(key) {\n",
       "          const element = document.querySelector('#df-e6f3440c-db77-463c-bf17-3ddcdc828d63');\n",
       "          const dataTable =\n",
       "            await google.colab.kernel.invokeFunction('convertToInteractive',\n",
       "                                                     [key], {});\n",
       "          if (!dataTable) return;\n",
       "\n",
       "          const docLinkHtml = 'Like what you see? Visit the ' +\n",
       "            '<a target=\"_blank\" href=https://colab.research.google.com/notebooks/data_table.ipynb>data table notebook</a>'\n",
       "            + ' to learn more about interactive tables.';\n",
       "          element.innerHTML = '';\n",
       "          dataTable['output_type'] = 'display_data';\n",
       "          await google.colab.output.renderOutput(dataTable, element);\n",
       "          const docLink = document.createElement('div');\n",
       "          docLink.innerHTML = docLinkHtml;\n",
       "          element.appendChild(docLink);\n",
       "        }\n",
       "      </script>\n",
       "    </div>\n",
       "  </div>\n",
       "  "
      ],
      "text/plain": [
       "   user_id      signup_time  ... class            country\n",
       "0   285108   7/15/2015 4:36  ...     0      United States\n",
       "1   131009  1/24/2015 12:29  ...     0     United Kingdom\n",
       "2   328855   3/11/2015 0:54  ...     0      United States\n",
       "3   229053   1/7/2015 13:19  ...     0  Korea Republic of\n",
       "4   108439   2/8/2015 21:11  ...     0             Brazil\n",
       "\n",
       "[5 rows x 13 columns]"
      ]
     },
     "execution_count": 2,
     "metadata": {},
     "output_type": "execute_result"
    }
   ],
   "source": [
    "data.head()"
   ]
  },
  {
   "cell_type": "markdown",
   "metadata": {
    "id": "KoFovGA6mvjH"
   },
   "source": [
    "## EDA\n",
    "A big portion of being a data scientist is his or her ability to understand the data. Please feel free to use the bottom cells to perform exploratory data analysis. Once you're done, please move on to the problems and tasks."
   ]
  },
  {
   "cell_type": "code",
   "execution_count": null,
   "metadata": {
    "colab": {
     "base_uri": "https://localhost:8080/"
    },
    "id": "sQ49SR_imvjI",
    "outputId": "dbb4657f-465c-4d11-a2a5-395b74605ac9"
   },
   "outputs": [
    {
     "data": {
      "text/plain": [
       "(120000, 13)"
      ]
     },
     "execution_count": 3,
     "metadata": {},
     "output_type": "execute_result"
    }
   ],
   "source": [
    "# Size of the dataset.\n",
    "data.shape"
   ]
  },
  {
   "cell_type": "code",
   "execution_count": null,
   "metadata": {
    "colab": {
     "base_uri": "https://localhost:8080/"
    },
    "id": "BwwQSehFaKv1",
    "outputId": "6ffe921f-7faf-41fa-8b33-1bca56f7917e"
   },
   "outputs": [
    {
     "name": "stdout",
     "output_type": "stream",
     "text": [
      "<class 'pandas.core.frame.DataFrame'>\n",
      "RangeIndex: 120000 entries, 0 to 119999\n",
      "Data columns (total 13 columns):\n",
      " #   Column          Non-Null Count   Dtype  \n",
      "---  ------          --------------   -----  \n",
      " 0   user_id         120000 non-null  int64  \n",
      " 1   signup_time     120000 non-null  object \n",
      " 2   purchase_time   120000 non-null  object \n",
      " 3   elapsed_time    120000 non-null  int64  \n",
      " 4   purchase_value  120000 non-null  int64  \n",
      " 5   device_id       120000 non-null  object \n",
      " 6   source          120000 non-null  object \n",
      " 7   browser         120000 non-null  object \n",
      " 8   sex             120000 non-null  object \n",
      " 9   age             120000 non-null  int64  \n",
      " 10  ip_address      120000 non-null  float64\n",
      " 11  class           120000 non-null  int64  \n",
      " 12  country         120000 non-null  object \n",
      "dtypes: float64(1), int64(5), object(7)\n",
      "memory usage: 11.9+ MB\n"
     ]
    }
   ],
   "source": [
    "# Check for nulls.\n",
    "data.info()"
   ]
  },
  {
   "cell_type": "code",
   "execution_count": null,
   "metadata": {
    "colab": {
     "base_uri": "https://localhost:8080/",
     "height": 394
    },
    "id": "bnJW2IbiaKyU",
    "outputId": "bd787ad4-ff6a-42d1-ff34-793454a5eb12"
   },
   "outputs": [
    {
     "data": {
      "text/html": [
       "\n",
       "  <div id=\"df-028fa459-61bc-4fec-9d89-30ee5d0b9b1a\">\n",
       "    <div class=\"colab-df-container\">\n",
       "      <div>\n",
       "<style scoped>\n",
       "    .dataframe tbody tr th:only-of-type {\n",
       "        vertical-align: middle;\n",
       "    }\n",
       "\n",
       "    .dataframe tbody tr th {\n",
       "        vertical-align: top;\n",
       "    }\n",
       "\n",
       "    .dataframe thead th {\n",
       "        text-align: right;\n",
       "    }\n",
       "</style>\n",
       "<table border=\"1\" class=\"dataframe\">\n",
       "  <thead>\n",
       "    <tr style=\"text-align: right;\">\n",
       "      <th></th>\n",
       "      <th>user_id</th>\n",
       "      <th>signup_time</th>\n",
       "      <th>purchase_time</th>\n",
       "      <th>elapsed_time</th>\n",
       "      <th>purchase_value</th>\n",
       "      <th>device_id</th>\n",
       "      <th>source</th>\n",
       "      <th>browser</th>\n",
       "      <th>sex</th>\n",
       "      <th>age</th>\n",
       "      <th>ip_address</th>\n",
       "      <th>class</th>\n",
       "      <th>country</th>\n",
       "    </tr>\n",
       "  </thead>\n",
       "  <tbody>\n",
       "    <tr>\n",
       "      <th>count</th>\n",
       "      <td>120000.000000</td>\n",
       "      <td>120000</td>\n",
       "      <td>120000</td>\n",
       "      <td>120000.000000</td>\n",
       "      <td>120000.000000</td>\n",
       "      <td>120000</td>\n",
       "      <td>120000</td>\n",
       "      <td>120000</td>\n",
       "      <td>120000</td>\n",
       "      <td>120000.000000</td>\n",
       "      <td>1.200000e+05</td>\n",
       "      <td>120000.000000</td>\n",
       "      <td>120000</td>\n",
       "    </tr>\n",
       "    <tr>\n",
       "      <th>unique</th>\n",
       "      <td>NaN</td>\n",
       "      <td>109111</td>\n",
       "      <td>100058</td>\n",
       "      <td>NaN</td>\n",
       "      <td>NaN</td>\n",
       "      <td>110599</td>\n",
       "      <td>3</td>\n",
       "      <td>5</td>\n",
       "      <td>2</td>\n",
       "      <td>NaN</td>\n",
       "      <td>NaN</td>\n",
       "      <td>NaN</td>\n",
       "      <td>177</td>\n",
       "    </tr>\n",
       "    <tr>\n",
       "      <th>top</th>\n",
       "      <td>NaN</td>\n",
       "      <td>1/6/2015 12:10</td>\n",
       "      <td>1/6/2015 12:53</td>\n",
       "      <td>NaN</td>\n",
       "      <td>NaN</td>\n",
       "      <td>ITUMJCKWEYNDD</td>\n",
       "      <td>SEO</td>\n",
       "      <td>Chrome</td>\n",
       "      <td>M</td>\n",
       "      <td>NaN</td>\n",
       "      <td>NaN</td>\n",
       "      <td>NaN</td>\n",
       "      <td>United States</td>\n",
       "    </tr>\n",
       "    <tr>\n",
       "      <th>freq</th>\n",
       "      <td>NaN</td>\n",
       "      <td>21</td>\n",
       "      <td>20</td>\n",
       "      <td>NaN</td>\n",
       "      <td>NaN</td>\n",
       "      <td>19</td>\n",
       "      <td>48297</td>\n",
       "      <td>48652</td>\n",
       "      <td>70126</td>\n",
       "      <td>NaN</td>\n",
       "      <td>NaN</td>\n",
       "      <td>NaN</td>\n",
       "      <td>46184</td>\n",
       "    </tr>\n",
       "    <tr>\n",
       "      <th>mean</th>\n",
       "      <td>200320.280100</td>\n",
       "      <td>NaN</td>\n",
       "      <td>NaN</td>\n",
       "      <td>1.860408</td>\n",
       "      <td>36.881475</td>\n",
       "      <td>NaN</td>\n",
       "      <td>NaN</td>\n",
       "      <td>NaN</td>\n",
       "      <td>NaN</td>\n",
       "      <td>33.125250</td>\n",
       "      <td>2.151550e+09</td>\n",
       "      <td>0.093875</td>\n",
       "      <td>NaN</td>\n",
       "    </tr>\n",
       "    <tr>\n",
       "      <th>std</th>\n",
       "      <td>115361.945935</td>\n",
       "      <td>NaN</td>\n",
       "      <td>NaN</td>\n",
       "      <td>1.250767</td>\n",
       "      <td>18.325855</td>\n",
       "      <td>NaN</td>\n",
       "      <td>NaN</td>\n",
       "      <td>NaN</td>\n",
       "      <td>NaN</td>\n",
       "      <td>8.617081</td>\n",
       "      <td>1.248314e+09</td>\n",
       "      <td>0.291656</td>\n",
       "      <td>NaN</td>\n",
       "    </tr>\n",
       "    <tr>\n",
       "      <th>min</th>\n",
       "      <td>2.000000</td>\n",
       "      <td>NaN</td>\n",
       "      <td>NaN</td>\n",
       "      <td>0.000000</td>\n",
       "      <td>9.000000</td>\n",
       "      <td>NaN</td>\n",
       "      <td>NaN</td>\n",
       "      <td>NaN</td>\n",
       "      <td>NaN</td>\n",
       "      <td>18.000000</td>\n",
       "      <td>9.344714e+04</td>\n",
       "      <td>0.000000</td>\n",
       "      <td>NaN</td>\n",
       "    </tr>\n",
       "    <tr>\n",
       "      <th>25%</th>\n",
       "      <td>100925.500000</td>\n",
       "      <td>NaN</td>\n",
       "      <td>NaN</td>\n",
       "      <td>1.000000</td>\n",
       "      <td>22.000000</td>\n",
       "      <td>NaN</td>\n",
       "      <td>NaN</td>\n",
       "      <td>NaN</td>\n",
       "      <td>NaN</td>\n",
       "      <td>27.000000</td>\n",
       "      <td>1.085345e+09</td>\n",
       "      <td>0.000000</td>\n",
       "      <td>NaN</td>\n",
       "    </tr>\n",
       "    <tr>\n",
       "      <th>50%</th>\n",
       "      <td>200037.500000</td>\n",
       "      <td>NaN</td>\n",
       "      <td>NaN</td>\n",
       "      <td>2.000000</td>\n",
       "      <td>34.000000</td>\n",
       "      <td>NaN</td>\n",
       "      <td>NaN</td>\n",
       "      <td>NaN</td>\n",
       "      <td>NaN</td>\n",
       "      <td>33.000000</td>\n",
       "      <td>2.155238e+09</td>\n",
       "      <td>0.000000</td>\n",
       "      <td>NaN</td>\n",
       "    </tr>\n",
       "    <tr>\n",
       "      <th>75%</th>\n",
       "      <td>300395.500000</td>\n",
       "      <td>NaN</td>\n",
       "      <td>NaN</td>\n",
       "      <td>3.000000</td>\n",
       "      <td>49.000000</td>\n",
       "      <td>NaN</td>\n",
       "      <td>NaN</td>\n",
       "      <td>NaN</td>\n",
       "      <td>NaN</td>\n",
       "      <td>39.000000</td>\n",
       "      <td>3.241268e+09</td>\n",
       "      <td>0.000000</td>\n",
       "      <td>NaN</td>\n",
       "    </tr>\n",
       "    <tr>\n",
       "      <th>max</th>\n",
       "      <td>400000.000000</td>\n",
       "      <td>NaN</td>\n",
       "      <td>NaN</td>\n",
       "      <td>4.000000</td>\n",
       "      <td>154.000000</td>\n",
       "      <td>NaN</td>\n",
       "      <td>NaN</td>\n",
       "      <td>NaN</td>\n",
       "      <td>NaN</td>\n",
       "      <td>76.000000</td>\n",
       "      <td>4.294850e+09</td>\n",
       "      <td>1.000000</td>\n",
       "      <td>NaN</td>\n",
       "    </tr>\n",
       "  </tbody>\n",
       "</table>\n",
       "</div>\n",
       "      <button class=\"colab-df-convert\" onclick=\"convertToInteractive('df-028fa459-61bc-4fec-9d89-30ee5d0b9b1a')\"\n",
       "              title=\"Convert this dataframe to an interactive table.\"\n",
       "              style=\"display:none;\">\n",
       "        \n",
       "  <svg xmlns=\"http://www.w3.org/2000/svg\" height=\"24px\"viewBox=\"0 0 24 24\"\n",
       "       width=\"24px\">\n",
       "    <path d=\"M0 0h24v24H0V0z\" fill=\"none\"/>\n",
       "    <path d=\"M18.56 5.44l.94 2.06.94-2.06 2.06-.94-2.06-.94-.94-2.06-.94 2.06-2.06.94zm-11 1L8.5 8.5l.94-2.06 2.06-.94-2.06-.94L8.5 2.5l-.94 2.06-2.06.94zm10 10l.94 2.06.94-2.06 2.06-.94-2.06-.94-.94-2.06-.94 2.06-2.06.94z\"/><path d=\"M17.41 7.96l-1.37-1.37c-.4-.4-.92-.59-1.43-.59-.52 0-1.04.2-1.43.59L10.3 9.45l-7.72 7.72c-.78.78-.78 2.05 0 2.83L4 21.41c.39.39.9.59 1.41.59.51 0 1.02-.2 1.41-.59l7.78-7.78 2.81-2.81c.8-.78.8-2.07 0-2.86zM5.41 20L4 18.59l7.72-7.72 1.47 1.35L5.41 20z\"/>\n",
       "  </svg>\n",
       "      </button>\n",
       "      \n",
       "  <style>\n",
       "    .colab-df-container {\n",
       "      display:flex;\n",
       "      flex-wrap:wrap;\n",
       "      gap: 12px;\n",
       "    }\n",
       "\n",
       "    .colab-df-convert {\n",
       "      background-color: #E8F0FE;\n",
       "      border: none;\n",
       "      border-radius: 50%;\n",
       "      cursor: pointer;\n",
       "      display: none;\n",
       "      fill: #1967D2;\n",
       "      height: 32px;\n",
       "      padding: 0 0 0 0;\n",
       "      width: 32px;\n",
       "    }\n",
       "\n",
       "    .colab-df-convert:hover {\n",
       "      background-color: #E2EBFA;\n",
       "      box-shadow: 0px 1px 2px rgba(60, 64, 67, 0.3), 0px 1px 3px 1px rgba(60, 64, 67, 0.15);\n",
       "      fill: #174EA6;\n",
       "    }\n",
       "\n",
       "    [theme=dark] .colab-df-convert {\n",
       "      background-color: #3B4455;\n",
       "      fill: #D2E3FC;\n",
       "    }\n",
       "\n",
       "    [theme=dark] .colab-df-convert:hover {\n",
       "      background-color: #434B5C;\n",
       "      box-shadow: 0px 1px 3px 1px rgba(0, 0, 0, 0.15);\n",
       "      filter: drop-shadow(0px 1px 2px rgba(0, 0, 0, 0.3));\n",
       "      fill: #FFFFFF;\n",
       "    }\n",
       "  </style>\n",
       "\n",
       "      <script>\n",
       "        const buttonEl =\n",
       "          document.querySelector('#df-028fa459-61bc-4fec-9d89-30ee5d0b9b1a button.colab-df-convert');\n",
       "        buttonEl.style.display =\n",
       "          google.colab.kernel.accessAllowed ? 'block' : 'none';\n",
       "\n",
       "        async function convertToInteractive(key) {\n",
       "          const element = document.querySelector('#df-028fa459-61bc-4fec-9d89-30ee5d0b9b1a');\n",
       "          const dataTable =\n",
       "            await google.colab.kernel.invokeFunction('convertToInteractive',\n",
       "                                                     [key], {});\n",
       "          if (!dataTable) return;\n",
       "\n",
       "          const docLinkHtml = 'Like what you see? Visit the ' +\n",
       "            '<a target=\"_blank\" href=https://colab.research.google.com/notebooks/data_table.ipynb>data table notebook</a>'\n",
       "            + ' to learn more about interactive tables.';\n",
       "          element.innerHTML = '';\n",
       "          dataTable['output_type'] = 'display_data';\n",
       "          await google.colab.output.renderOutput(dataTable, element);\n",
       "          const docLink = document.createElement('div');\n",
       "          docLink.innerHTML = docLinkHtml;\n",
       "          element.appendChild(docLink);\n",
       "        }\n",
       "      </script>\n",
       "    </div>\n",
       "  </div>\n",
       "  "
      ],
      "text/plain": [
       "              user_id     signup_time  ...          class        country\n",
       "count   120000.000000          120000  ...  120000.000000         120000\n",
       "unique            NaN          109111  ...            NaN            177\n",
       "top               NaN  1/6/2015 12:10  ...            NaN  United States\n",
       "freq              NaN              21  ...            NaN          46184\n",
       "mean    200320.280100             NaN  ...       0.093875            NaN\n",
       "std     115361.945935             NaN  ...       0.291656            NaN\n",
       "min          2.000000             NaN  ...       0.000000            NaN\n",
       "25%     100925.500000             NaN  ...       0.000000            NaN\n",
       "50%     200037.500000             NaN  ...       0.000000            NaN\n",
       "75%     300395.500000             NaN  ...       0.000000            NaN\n",
       "max     400000.000000             NaN  ...       1.000000            NaN\n",
       "\n",
       "[11 rows x 13 columns]"
      ]
     },
     "execution_count": 5,
     "metadata": {},
     "output_type": "execute_result"
    }
   ],
   "source": [
    "# Descriptive Statistics.\n",
    "data.describe(include='all')"
   ]
  },
  {
   "cell_type": "code",
   "execution_count": null,
   "metadata": {
    "colab": {
     "base_uri": "https://localhost:8080/",
     "height": 317
    },
    "id": "oBznKWQdaK1D",
    "outputId": "94e774b4-91c3-4173-bb7d-979f47cd4041"
   },
   "outputs": [
    {
     "name": "stdout",
     "output_type": "stream",
     "text": [
      "0    0.906125\n",
      "1    0.093875\n",
      "Name: class, dtype: float64\n"
     ]
    },
    {
     "data": {
      "image/png": "[encoded data removed]",
      "text/plain": [
       "<Figure size 432x288 with 1 Axes>"
      ]
     },
     "metadata": {
      "needs_background": "light"
     },
     "output_type": "display_data"
    }
   ],
   "source": [
    "# Only 9.3% of the data, labeled as fraud. ( Highly imbalance data)\n",
    "print(data[\"class\"].value_counts(normalize=True))\n",
    "\n",
    "data[\"class\"].hist();"
   ]
  },
  {
   "cell_type": "code",
   "execution_count": null,
   "metadata": {
    "colab": {
     "base_uri": "https://localhost:8080/",
     "height": 338
    },
    "id": "jglfqoNhb3UU",
    "outputId": "94b2ad87-9221-4fe7-a426-05c3da25f388"
   },
   "outputs": [
    {
     "data": {
      "image/png": "[encoded data removed]",
      "text/plain": [
       "<Figure size 432x288 with 2 Axes>"
      ]
     },
     "metadata": {
      "needs_background": "light"
     },
     "output_type": "display_data"
    }
   ],
   "source": [
    "# Correlation Matrix\n",
    "# From the heatmap we can say that feature cloumns are independent to each other.\n",
    "import seaborn as sb\n",
    "corr = data.corr()\n",
    "sb.heatmap(corr, cmap=\"Blues\", annot=True);"
   ]
  },
  {
   "cell_type": "markdown",
   "metadata": {
    "id": "PbHKnLi3mvjI"
   },
   "source": [
    "## Feature Engineering\n",
    "\n",
    "The steps we take below are, by no means, fully comprehensive nor production-level. However, we will assume that those steps below are **sufficient** for data processing and feature engineering in this assessment. "
   ]
  },
  {
   "cell_type": "markdown",
   "metadata": {
    "id": "1J7igIlEmvjJ"
   },
   "source": [
    "### Problem 0 \n",
    "#### Write a custom transformer called CategoricalTransformer to encode categorical columns in an optional \"columns\" construction parameter."
   ]
  },
  {
   "cell_type": "code",
   "execution_count": null,
   "metadata": {
    "id": "szo1ysRomvjK"
   },
   "outputs": [],
   "source": [
    "from sklearn.base import BaseEstimator, TransformerMixin\n",
    "class CategoricalTransformer(BaseEstimator, TransformerMixin):\n",
    "    def __init__(self,columns = None):\n",
    "        self.columns = columns # array of column names to encode\n",
    "\n",
    "    def fit(self,X,y=None):\n",
    "        return self # not relevant here\n",
    "\n",
    "    def transform(self,X):\n",
    "        '''\n",
    "        Transforms columns of X specified in self.columns using\n",
    "        LabelEncoder(). If no columns specified, transforms all\n",
    "        columns in X.\n",
    "        '''\n",
    "        output = X.copy()\n",
    "        if self.columns is not None:\n",
    "            for col in self.columns:\n",
    "                output[col] = preprocessing.LabelEncoder().fit_transform(output[col])\n",
    "        else:\n",
    "            for colname,col in output.iteritems():\n",
    "                output[colname] = preprocessing.LabelEncoder().fit_transform(col)\n",
    "        return output\n",
    "\n",
    "    def fit_transform(self,X,y=None):\n",
    "        return self.fit(X,y).transform(X)"
   ]
  },
  {
   "cell_type": "markdown",
   "metadata": {
    "id": "KysXN240mvjL"
   },
   "source": [
    "### Problem 1\n",
    "#### Write a custom transformer called DropColTransformer to drop the columns specified in an optional \"columns\" construction parameter."
   ]
  },
  {
   "cell_type": "code",
   "execution_count": null,
   "metadata": {
    "id": "1LkuFsSxMV5i"
   },
   "outputs": [],
   "source": [
    "class DropColTransformer(BaseEstimator, TransformerMixin):\n",
    "    ### BEGIN SOLUTION\n",
    "    def __init__(self,columns = None):\n",
    "        self.columns = columns # array of column names to drop\n",
    "\n",
    "    def fit(self,X,y=None):\n",
    "        return self # not relevant here\n",
    "\n",
    "    def transform(self,X):\n",
    "        '''\n",
    "        Drop columns of X specified in self.columns using drop().\n",
    "        If no columns specified, return the dataset as it is.\n",
    "        '''\n",
    "        output = X.copy()\n",
    "        if self.columns is not None:\n",
    "            for col in self.columns:\n",
    "                output = output.drop(col,axis=1)\n",
    "        return output\n",
    "\n",
    "    def fit_transform(self,X,y=None):\n",
    "        return self.fit(X,y).transform(X)"
   ]
  },
  {
   "cell_type": "markdown",
   "metadata": {
    "id": "eaRucfrCmvjM"
   },
   "source": [
    "### Problem 2\n",
    "#### Write a custom transformer called FillMissingTransformer that fills in the missing values in the dataset that takes an optional \"value\" parameter that specifies what value to substitute for missing values."
   ]
  },
  {
   "cell_type": "code",
   "execution_count": null,
   "metadata": {
    "id": "s2ead7B2STda"
   },
   "outputs": [],
   "source": [
    "class FillMissingTransformer(BaseEstimator, TransformerMixin):\n",
    "    ### BEGIN SOLUTION\n",
    "    def __init__(self, missing_value = None):\n",
    "        self.missing_value = missing_value #value to substitute for missing values.\n",
    "\n",
    "    def fit(self,X,y=None):\n",
    "        return self # not relevant here\n",
    "\n",
    "    def transform(self,X):\n",
    "        '''\n",
    "        Fill the missing values in X specified in self.missing_value using\n",
    "        fillna(). If there is no missing value then return the dataset as it is.\n",
    "        '''\n",
    "        output = X.copy()\n",
    "        if self.missing_value is not None:\n",
    "            output.fillna(self.missing_value)\n",
    "        \n",
    "        return output\n",
    "\n",
    "    def fit_transform(self,X,y=None):\n",
    "        return self.fit(X,y).transform(X)"
   ]
  },
  {
   "cell_type": "markdown",
   "metadata": {
    "id": "OfTPdfRSmvjN"
   },
   "source": [
    "### Problem 3\n",
    "#### Write a custom transformer called DateTransformer to cast date features into pandas datetime format that takes an optional construction parameter \"columns\" to specify which columns need to be transformed, and an optional parameter \"strftime\" that specifies the format to be parsed."
   ]
  },
  {
   "cell_type": "code",
   "execution_count": null,
   "metadata": {
    "id": "0vOORLfHYLF0"
   },
   "outputs": [],
   "source": [
    "class DateTransformer(BaseEstimator, TransformerMixin):\n",
    "    ### BEGIN SOLUTION\n",
    "    def __init__(self,columns = None, format_type = None):\n",
    "        self.columns = columns # array of column names to convert in datetime format.\n",
    "        self.format_type = format_type  # format of the datetime, in which you wants the output, like '%m', '%d'.\n",
    "\n",
    "    def fit(self,X,y=None):\n",
    "        return self # not relevant here\n",
    "\n",
    "    def transform(self,X):\n",
    "        '''\n",
    "        Transforms columns of X specified in self.columns using\n",
    "        to_datetime(). If no columns specified, return as it is.\n",
    "        '''\n",
    "        output = X.copy()\n",
    "        if self.columns is not None:\n",
    "          if self.format_type is not None:\n",
    "              for col in self.columns:\n",
    "                  output[col] = pd.to_datetime(output[col]).strftime(self.format_type)\n",
    "          else:\n",
    "              for col in self.columns:\n",
    "                  output[col] = pd.to_datetime(output[col])        \n",
    "        \n",
    "        return output\n",
    "\n",
    "    def fit_transform(self,X,y=None):\n",
    "        return self.fit(X,y).transform(X)"
   ]
  },
  {
   "cell_type": "markdown",
   "metadata": {
    "id": "9-RrzuHGmvjN"
   },
   "source": [
    "### Problem 4 \n",
    "#### Write a custom transformer called NumericalTransformer to: <br> 1) calculate the latency (i.e. time taken by the user in completing a transaction after registration)  <br> 2) calculate the number of users who are using the same device. \n",
    "The construction method need not contain an optional parameter."
   ]
  },
  {
   "cell_type": "code",
   "execution_count": null,
   "metadata": {
    "id": "2j9pgunHmvjO"
   },
   "outputs": [],
   "source": [
    "class NumericalTransformer(BaseEstimator, TransformerMixin):\n",
    "    ### BEGIN SOLUTION\n",
    "    def __init__(self): \n",
    "      pass\n",
    "         \n",
    "    def fit(self,X,y=None):\n",
    "        return self      # not relevant here\n",
    "\n",
    "    def transform(self,X):\n",
    "        '''\n",
    "        Transforms the X, by introducing the two new columns, one is latency(sec) \n",
    "        i,e,. difference between 'purchase_timedate' and 'signup_time' and another\n",
    "        is the count of users using same device. \n",
    "        '''\n",
    "        output = X.copy()\n",
    "        output['latency(sec)'] = (output['purchase_time'] - output['signup_time'])/np.timedelta64(1,'s')\n",
    "\n",
    "        count_by_device = output['user_id'].groupby(output['device_id']).count()\n",
    "        user_count_per_device = count_by_device[output['device_id']].reset_index(drop=True)\n",
    "        user_count_per_device.name = 'user_count_per_device'\n",
    "        \n",
    "        output = pd.concat([output,user_count_per_device], axis = 1)\n",
    "        return output\n",
    "\n",
    "    def fit_transform(self,X,y=None):\n",
    "        return self.fit(X,y).transform(X)"
   ]
  },
  {
   "cell_type": "markdown",
   "metadata": {
    "id": "3KfcS_IzmvjO"
   },
   "source": [
    "### Problem 5 \n",
    "#### Create a Pipeline Object that concatonates all of the custom transformers that you have just created"
   ]
  },
  {
   "cell_type": "code",
   "execution_count": null,
   "metadata": {
    "id": "EnC3Ei6vmvjO"
   },
   "outputs": [],
   "source": [
    "from sklearn.pipeline import Pipeline\n",
    "full_pipeline = Pipeline([\n",
    "                        ('missing', FillMissingTransformer()),\n",
    "                        ('dates', DateTransformer(['signup_time', 'purchase_time'])),\n",
    "                        ('numerical', NumericalTransformer()),\n",
    "                        ('categorical', CategoricalTransformer(['country', 'sex', \n",
    "                                                          'browser', 'source','device_id'])),\n",
    "                        ('dropCat', DropColTransformer(['signup_time', 'purchase_time']))])"
   ]
  },
  {
   "cell_type": "code",
   "execution_count": null,
   "metadata": {
    "id": "7c2Y3GbXmvjP"
   },
   "outputs": [],
   "source": [
    "transformed_data = full_pipeline.fit_transform(data)"
   ]
  },
  {
   "cell_type": "code",
   "execution_count": null,
   "metadata": {
    "id": "9E8lRj6smvjP"
   },
   "outputs": [],
   "source": [
    "X = transformed_data.drop(['class'], axis = 1)\n",
    "y = transformed_data['class']"
   ]
  },
  {
   "cell_type": "code",
   "execution_count": null,
   "metadata": {
    "id": "1g3F9GOamvjP"
   },
   "outputs": [],
   "source": [
    "from sklearn.model_selection import train_test_split\n",
    "X_train, X_test, y_train, y_test = train_test_split(X, y)"
   ]
  },
  {
   "cell_type": "markdown",
   "metadata": {
    "id": "k7fw859EmvjP"
   },
   "source": [
    "## Modeling\n",
    "\n",
    "Assuming this pipeline is sufficient for data processing and feature engineering, explore **how ever many** different model types and choose one model in which you'd like to move forward. Please explain why you would move forward with the best model.\n",
    "\n",
    "**Preferably only use models from sklearn. If there is an absolute need to incorporate models from other packages, please specify which version of the package was used and explain why that package was needed.**\n",
    "\n",
    "*Feel free to add/remove cells if needed*"
   ]
  },
  {
   "cell_type": "code",
   "execution_count": null,
   "metadata": {
    "id": "fYFneC-_90ze"
   },
   "outputs": [],
   "source": [
    "# First we will try to drop the \"user_id\" column because it is having high cardinality \n",
    "# which will effect our model and it is not much usefull in this case.\n",
    "\n",
    "X = X.drop(['user_id'], axis = 1)"
   ]
  },
  {
   "cell_type": "code",
   "execution_count": null,
   "metadata": {
    "id": "VvEIdjpZ-3ep"
   },
   "outputs": [],
   "source": [
    "# Splitting the data.\n",
    "\n",
    "from sklearn.model_selection import train_test_split\n",
    "X_train, X_test, y_train, y_test = train_test_split(X, y)"
   ]
  },
  {
   "cell_type": "code",
   "execution_count": null,
   "metadata": {
    "colab": {
     "base_uri": "https://localhost:8080/"
    },
    "id": "P_PvnBy_P9b9",
    "outputId": "015fce62-4976-4c6b-ae19-e18addf7028c"
   },
   "outputs": [
    {
     "name": "stdout",
     "output_type": "stream",
     "text": [
      "0    0.906125\n",
      "1    0.093875\n",
      "Name: class, dtype: float64\n"
     ]
    }
   ],
   "source": [
    "# Only 9.3% of the data, labeled as fraud. ( Highly imbalance data)\n",
    "print(data[\"class\"].value_counts(normalize=True))"
   ]
  },
  {
   "cell_type": "markdown",
   "metadata": {
    "id": "4lCA3qB6TmQs"
   },
   "source": [
    "**As we can see our data is highly imbalanced, So first we will try to balance  it, and then build our model. Otherwise our model becomes biased towards the\n",
    "majority class prediction.**"
   ]
  },
  {
   "cell_type": "code",
   "execution_count": null,
   "metadata": {
    "id": "2Raedb4GUATu"
   },
   "outputs": [],
   "source": [
    "# We will try different resampling technique like under-,over-, and combine-sampling\n",
    "# and use the best one for balancing our data.\n",
    "'''\n",
    " Finally choose SMOTE to balance our data.\n",
    " SMOTE is used to create synthetic class samples of minority class to \n",
    " balance the distribution.\n",
    "'''\n",
    "\n",
    "from imblearn.combine import SMOTETomek, SMOTEENN\n",
    "from imblearn.over_sampling import SMOTE,  RandomOverSampler, ADASYN , KMeansSMOTE\n",
    "\n",
    "smt = SMOTE(random_state=4)\n",
    "X_train, y_train = smt.fit_resample(X_train, y_train)"
   ]
  },
  {
   "cell_type": "code",
   "execution_count": null,
   "metadata": {
    "colab": {
     "base_uri": "https://localhost:8080/"
    },
    "id": "Sb1WU8fk6whD",
    "outputId": "df6d926e-92cb-406f-bcc4-72879646234b"
   },
   "outputs": [
    {
     "data": {
      "text/plain": [
       "1    0.5\n",
       "0    0.5\n",
       "Name: class, dtype: float64"
      ]
     },
     "execution_count": 21,
     "metadata": {},
     "output_type": "execute_result"
    }
   ],
   "source": [
    "# Now our data is balanced.\n",
    "y_train.value_counts(normalize=True)"
   ]
  },
  {
   "cell_type": "code",
   "execution_count": null,
   "metadata": {
    "id": "lFDPC2hYfPIp"
   },
   "outputs": [],
   "source": [
    "# Required classes for model building and validation.\n",
    "\n",
    "from sklearn.model_selection import train_test_split, cross_val_score, GridSearchCV, StratifiedKFold\n",
    "from sklearn.linear_model import LogisticRegression\n",
    "from sklearn.tree import DecisionTreeClassifier\n",
    "from sklearn.ensemble import RandomForestClassifier, AdaBoostClassifier, GradientBoostingClassifier\n",
    "from sklearn.svm import SVC\n",
    "from sklearn.neighbors import KNeighborsClassifier\n",
    "from sklearn.naive_bayes import GaussianNB\n",
    "\n",
    "from sklearn.metrics import classification_report, confusion_matrix, roc_curve, auc\n",
    "from sklearn.metrics import accuracy_score,precision_score,recall_score,f1_score"
   ]
  },
  {
   "cell_type": "markdown",
   "metadata": {
    "id": "UqaavplHtKwo"
   },
   "source": [
    "### Problem 6: Build model 1"
   ]
  },
  {
   "cell_type": "markdown",
   "metadata": {
    "id": "_RNs175EtK30"
   },
   "source": [
    "#### Necessary steps to build the model"
   ]
  },
  {
   "cell_type": "code",
   "execution_count": null,
   "metadata": {
    "id": "kjaJnl6kbLrP"
   },
   "outputs": [],
   "source": [
    "# Logistic Regression\n",
    "\n",
    "clf = LogisticRegression(solver='lbfgs', random_state=42 , dual=False)\n",
    "clf.fit(X_train, y_train)\n",
    "clf_preds = clf.predict(X_test)"
   ]
  },
  {
   "cell_type": "markdown",
   "metadata": {
    "id": "uoQE8ZYeuAaE"
   },
   "source": [
    "#### Performance metrics of interest & Validation results"
   ]
  },
  {
   "cell_type": "code",
   "execution_count": null,
   "metadata": {
    "colab": {
     "base_uri": "https://localhost:8080/"
    },
    "id": "tgFRqPS2uDGG",
    "outputId": "93e5aacf-3209-4e70-833b-bf6cec9f5662"
   },
   "outputs": [
    {
     "name": "stdout",
     "output_type": "stream",
     "text": [
      "              precision    recall  f1-score   support\n",
      "\n",
      "           0       0.95      0.73      0.83     27166\n",
      "           1       0.20      0.65      0.31      2834\n",
      "\n",
      "    accuracy                           0.73     30000\n",
      "   macro avg       0.58      0.69      0.57     30000\n",
      "weighted avg       0.88      0.73      0.78     30000\n",
      "\n"
     ]
    }
   ],
   "source": [
    "print(classification_report(y_test, clf_preds))"
   ]
  },
  {
   "cell_type": "markdown",
   "metadata": {
    "id": "-mUv_x8OuJ_o"
   },
   "source": [
    "### Problem 7: Build model 2"
   ]
  },
  {
   "cell_type": "code",
   "execution_count": null,
   "metadata": {
    "id": "vdpldBKTjee1"
   },
   "outputs": [],
   "source": [
    "# Decision Tree Classifier\n",
    "\n",
    "dt = DecisionTreeClassifier(max_depth= 20)\n",
    "dt.fit(X_train, y_train)\n",
    "dt_preds = dt.predict(X_test)"
   ]
  },
  {
   "cell_type": "markdown",
   "metadata": {
    "id": "pzD1g0_auPKJ"
   },
   "source": [
    "#### Performance metrics of interest & Validation results"
   ]
  },
  {
   "cell_type": "code",
   "execution_count": null,
   "metadata": {
    "colab": {
     "base_uri": "https://localhost:8080/"
    },
    "id": "SrRKhfEXuP0g",
    "outputId": "70e2d723-fda7-416c-dc18-bc52069b4a36"
   },
   "outputs": [
    {
     "name": "stdout",
     "output_type": "stream",
     "text": [
      "              precision    recall  f1-score   support\n",
      "\n",
      "           0       0.96      0.85      0.90     27166\n",
      "           1       0.30      0.63      0.40      2834\n",
      "\n",
      "    accuracy                           0.83     30000\n",
      "   macro avg       0.63      0.74      0.65     30000\n",
      "weighted avg       0.89      0.83      0.85     30000\n",
      "\n"
     ]
    }
   ],
   "source": [
    "print(classification_report(y_test, dt_preds))"
   ]
  },
  {
   "cell_type": "markdown",
   "metadata": {
    "id": "Si-qdC23uSnR"
   },
   "source": [
    "### Problem 8: Build model 3"
   ]
  },
  {
   "cell_type": "code",
   "execution_count": null,
   "metadata": {
    "id": "AgtIeWZ2uTMI"
   },
   "outputs": [],
   "source": [
    "#Random Forest Classifier\n",
    "\n",
    "rf = RandomForestClassifier(n_estimators= 50, criterion = 'entropy', max_depth= 30)\n",
    "rf.fit(X_train, y_train)\n",
    "rf_preds = rf.predict(X_test)"
   ]
  },
  {
   "cell_type": "markdown",
   "metadata": {
    "id": "VluETsvYuTZo"
   },
   "source": [
    "#### Performance metrics of interest & Validation results"
   ]
  },
  {
   "cell_type": "code",
   "execution_count": null,
   "metadata": {
    "colab": {
     "base_uri": "https://localhost:8080/"
    },
    "id": "8Pp9HyDO0fs2",
    "outputId": "f9eed137-e4c9-4fa5-f99a-bd989c9c10a3"
   },
   "outputs": [
    {
     "name": "stdout",
     "output_type": "stream",
     "text": [
      "              precision    recall  f1-score   support\n",
      "\n",
      "           0       0.96      0.94      0.95     27166\n",
      "           1       0.50      0.59      0.54      2834\n",
      "\n",
      "    accuracy                           0.90     30000\n",
      "   macro avg       0.73      0.76      0.74     30000\n",
      "weighted avg       0.91      0.90      0.91     30000\n",
      "\n"
     ]
    }
   ],
   "source": [
    "print(classification_report(y_test, rf_preds))"
   ]
  },
  {
   "cell_type": "markdown",
   "metadata": {
    "id": "HIywpILIvDAp"
   },
   "source": [
    "### Build model 4"
   ]
  },
  {
   "cell_type": "markdown",
   "metadata": {
    "id": "Xljis530vU9P"
   },
   "source": [
    "#### Necessary steps to build the model"
   ]
  },
  {
   "cell_type": "code",
   "execution_count": null,
   "metadata": {
    "id": "UXj5JptHjD8B"
   },
   "outputs": [],
   "source": [
    "# KNeighbors Classifier\n",
    "\n",
    "knn = KNeighborsClassifier(n_neighbors=5)\n",
    "knn.fit(X_train, y_train)\n",
    "knn_preds = knn.predict(X_test)"
   ]
  },
  {
   "cell_type": "markdown",
   "metadata": {
    "id": "EDuGoZ9GvUNZ"
   },
   "source": [
    "#### Performance metrics of interest & Validation results"
   ]
  },
  {
   "cell_type": "code",
   "execution_count": null,
   "metadata": {
    "colab": {
     "base_uri": "https://localhost:8080/"
    },
    "id": "UjakwWIhva4x",
    "outputId": "7a827b6e-c5c5-46fa-9856-30c22588ede6"
   },
   "outputs": [
    {
     "name": "stdout",
     "output_type": "stream",
     "text": [
      "              precision    recall  f1-score   support\n",
      "\n",
      "           0       0.95      0.80      0.87     27166\n",
      "           1       0.25      0.62      0.35      2834\n",
      "\n",
      "    accuracy                           0.78     30000\n",
      "   macro avg       0.60      0.71      0.61     30000\n",
      "weighted avg       0.89      0.78      0.82     30000\n",
      "\n"
     ]
    }
   ],
   "source": [
    "print(classification_report(y_test, knn_preds))"
   ]
  },
  {
   "cell_type": "markdown",
   "metadata": {
    "id": "Py_LSfN4vsmc"
   },
   "source": [
    "### Build model 5"
   ]
  },
  {
   "cell_type": "markdown",
   "metadata": {
    "id": "Rn3OkltXv093"
   },
   "source": [
    "#### Necessary steps to build the model"
   ]
  },
  {
   "cell_type": "code",
   "execution_count": null,
   "metadata": {
    "id": "ORqHFq86v5z3"
   },
   "outputs": [],
   "source": [
    "# Gaussian Naive Bayes\n",
    "\n",
    "gnb = GaussianNB()\n",
    "gnb.fit(X_train, y_train)\n",
    "gnb_preds = gnb.predict(X_test)"
   ]
  },
  {
   "cell_type": "markdown",
   "metadata": {
    "id": "ga7Ktrlzvs8s"
   },
   "source": [
    "#### Performance metrics of interest & Validation results"
   ]
  },
  {
   "cell_type": "code",
   "execution_count": null,
   "metadata": {
    "colab": {
     "base_uri": "https://localhost:8080/"
    },
    "id": "lPYEgkjIv65a",
    "outputId": "10144f84-709e-4905-a8eb-ca50bbe3285d"
   },
   "outputs": [
    {
     "name": "stdout",
     "output_type": "stream",
     "text": [
      "              precision    recall  f1-score   support\n",
      "\n",
      "           0       0.95      0.65      0.78     27166\n",
      "           1       0.17      0.70      0.28      2834\n",
      "\n",
      "    accuracy                           0.66     30000\n",
      "   macro avg       0.56      0.68      0.53     30000\n",
      "weighted avg       0.88      0.66      0.73     30000\n",
      "\n"
     ]
    }
   ],
   "source": [
    "print(classification_report(y_test, gnb_preds))"
   ]
  },
  {
   "cell_type": "markdown",
   "metadata": {
    "id": "YdfzfizjvtJb"
   },
   "source": [
    "### Build model 6"
   ]
  },
  {
   "cell_type": "markdown",
   "metadata": {
    "id": "TCRhpe0Hv2BJ"
   },
   "source": [
    "#### Necessary steps to build the model"
   ]
  },
  {
   "cell_type": "code",
   "execution_count": null,
   "metadata": {
    "id": "ZOkOH-60v8UW"
   },
   "outputs": [],
   "source": [
    "# AdaBoostClassifier\n",
    "\n",
    "ab = AdaBoostClassifier(n_estimators=100,learning_rate=0.1,)\n",
    "ab.fit(X_train, y_train)\n",
    "ab_preds = ab.predict(X_test)"
   ]
  },
  {
   "cell_type": "markdown",
   "metadata": {
    "id": "uOQMBUVEvtRk"
   },
   "source": [
    "#### Performance metrics of interest & Validation results"
   ]
  },
  {
   "cell_type": "code",
   "execution_count": null,
   "metadata": {
    "colab": {
     "base_uri": "https://localhost:8080/"
    },
    "id": "bsdQKwDqv9xq",
    "outputId": "1a611354-978e-43e0-99f3-3d229a44296d"
   },
   "outputs": [
    {
     "name": "stdout",
     "output_type": "stream",
     "text": [
      "              precision    recall  f1-score   support\n",
      "\n",
      "           0       0.96      0.98      0.97     27166\n",
      "           1       0.72      0.60      0.65      2834\n",
      "\n",
      "    accuracy                           0.94     30000\n",
      "   macro avg       0.84      0.79      0.81     30000\n",
      "weighted avg       0.94      0.94      0.94     30000\n",
      "\n"
     ]
    }
   ],
   "source": [
    "print(classification_report(y_test, ab_preds))"
   ]
  },
  {
   "cell_type": "markdown",
   "metadata": {
    "id": "JhyNd3ZFvtZU"
   },
   "source": [
    "### Build model 7"
   ]
  },
  {
   "cell_type": "markdown",
   "metadata": {
    "id": "d5UrH8RSv3cf"
   },
   "source": [
    "#### Necessary steps to build the model"
   ]
  },
  {
   "cell_type": "code",
   "execution_count": null,
   "metadata": {
    "id": "MlrIn6Z4v-3y"
   },
   "outputs": [],
   "source": [
    "# XGBClassifier\n",
    "\n",
    "from xgboost import XGBClassifier\n",
    "gb = XGBClassifier(num_boost_rounds=2000,learning_rate=0.1,early_stopping_rounds=10)\n",
    "gb.fit(X_train, y_train)\n",
    "gb_preds = gb.predict(X_test)"
   ]
  },
  {
   "cell_type": "markdown",
   "metadata": {
    "id": "1T9PZt1Ev_X4"
   },
   "source": [
    "#### Performance metrics of interest & Validation results"
   ]
  },
  {
   "cell_type": "code",
   "execution_count": null,
   "metadata": {
    "colab": {
     "base_uri": "https://localhost:8080/"
    },
    "id": "7pUNw_y1v_4L",
    "outputId": "ea8f1c89-7e0c-4218-abcf-9743b427d48e"
   },
   "outputs": [
    {
     "name": "stdout",
     "output_type": "stream",
     "text": [
      "              precision    recall  f1-score   support\n",
      "\n",
      "           0       0.96      0.94      0.95     27166\n",
      "           1       0.52      0.61      0.56      2834\n",
      "\n",
      "    accuracy                           0.91     30000\n",
      "   macro avg       0.74      0.77      0.76     30000\n",
      "weighted avg       0.92      0.91      0.91     30000\n",
      "\n"
     ]
    }
   ],
   "source": [
    "print(classification_report(y_test, gb_preds))"
   ]
  },
  {
   "cell_type": "markdown",
   "metadata": {
    "id": "QNsSBDqAIRRS"
   },
   "source": [
    "### Build model 8"
   ]
  },
  {
   "cell_type": "code",
   "execution_count": null,
   "metadata": {
    "colab": {
     "base_uri": "https://localhost:8080/"
    },
    "id": "zLetB2MPJG8K",
    "outputId": "f98aae6e-f11a-4d9e-cd38-19629a8b0dc3"
   },
   "outputs": [
    {
     "name": "stdout",
     "output_type": "stream",
     "text": [
      "Collecting catboost\n",
      "  Downloading catboost-1.0.4-cp37-none-manylinux1_x86_64.whl (76.1 MB)\n",
      "\u001b[K     |████████████████████████████████| 76.1 MB 67 kB/s \n",
      "\u001b[?25hRequirement already satisfied: scipy in /usr/local/lib/python3.7/dist-packages (from catboost) (1.4.1)\n",
      "Requirement already satisfied: graphviz in /usr/local/lib/python3.7/dist-packages (from catboost) (0.10.1)\n",
      "Requirement already satisfied: plotly in /usr/local/lib/python3.7/dist-packages (from catboost) (5.5.0)\n",
      "Requirement already satisfied: six in /usr/local/lib/python3.7/dist-packages (from catboost) (1.15.0)\n",
      "Requirement already satisfied: pandas>=0.24.0 in /usr/local/lib/python3.7/dist-packages (from catboost) (1.1.5)\n",
      "Requirement already satisfied: numpy>=1.16.0 in /usr/local/lib/python3.7/dist-packages (from catboost) (1.19.5)\n",
      "Requirement already satisfied: matplotlib in /usr/local/lib/python3.7/dist-packages (from catboost) (3.2.2)\n",
      "Requirement already satisfied: pytz>=2017.2 in /usr/local/lib/python3.7/dist-packages (from pandas>=0.24.0->catboost) (2018.9)\n",
      "Requirement already satisfied: python-dateutil>=2.7.3 in /usr/local/lib/python3.7/dist-packages (from pandas>=0.24.0->catboost) (2.8.2)\n",
      "Requirement already satisfied: pyparsing!=2.0.4,!=2.1.2,!=2.1.6,>=2.0.1 in /usr/local/lib/python3.7/dist-packages (from matplotlib->catboost) (3.0.7)\n",
      "Requirement already satisfied: cycler>=0.10 in /usr/local/lib/python3.7/dist-packages (from matplotlib->catboost) (0.11.0)\n",
      "Requirement already satisfied: kiwisolver>=1.0.1 in /usr/local/lib/python3.7/dist-packages (from matplotlib->catboost) (1.3.2)\n",
      "Requirement already satisfied: tenacity>=6.2.0 in /usr/local/lib/python3.7/dist-packages (from plotly->catboost) (8.0.1)\n",
      "Installing collected packages: catboost\n",
      "Successfully installed catboost-1.0.4\n"
     ]
    }
   ],
   "source": [
    "# to install Catboost library which is not the part of Sklearn, as it work fast in decision tree\n",
    "# and use leaf nodes for maximizes the accuracy of split scoring.\n",
    "!pip3 install catboost"
   ]
  },
  {
   "cell_type": "code",
   "execution_count": null,
   "metadata": {
    "id": "GvYhRCWMGc3j"
   },
   "outputs": [],
   "source": [
    "# CatBoostClassifier\n",
    "from catboost import CatBoostClassifier\n",
    "cb = CatBoostClassifier(learning_rate = 0.01,iterations = 2,verbose=False)\n",
    "cb.fit(X_train, y_train)\n",
    "cb_preds = gb.predict(X_test)"
   ]
  },
  {
   "cell_type": "markdown",
   "metadata": {
    "id": "xiFw8w-aIWfV"
   },
   "source": [
    "#### Performance metrics of interest & Validation results"
   ]
  },
  {
   "cell_type": "code",
   "execution_count": null,
   "metadata": {
    "colab": {
     "base_uri": "https://localhost:8080/"
    },
    "id": "f1zreNYcIXAb",
    "outputId": "13b025f3-b2b1-48e0-d1fe-a8e191976f31"
   },
   "outputs": [
    {
     "name": "stdout",
     "output_type": "stream",
     "text": [
      "              precision    recall  f1-score   support\n",
      "\n",
      "           0       0.96      0.94      0.95     27166\n",
      "           1       0.52      0.61      0.56      2834\n",
      "\n",
      "    accuracy                           0.91     30000\n",
      "   macro avg       0.74      0.77      0.76     30000\n",
      "weighted avg       0.92      0.91      0.91     30000\n",
      "\n"
     ]
    }
   ],
   "source": [
    "print(classification_report(y_test, cb_preds))"
   ]
  },
  {
   "cell_type": "markdown",
   "metadata": {
    "id": "RQV1NuzhIZsS"
   },
   "source": [
    "**Compare metrics of all the above models, with Cross-Validation.**"
   ]
  },
  {
   "cell_type": "code",
   "execution_count": null,
   "metadata": {
    "colab": {
     "base_uri": "https://localhost:8080/",
     "height": 300
    },
    "id": "LxmHPA-ejD_R",
    "outputId": "0016e186-8da2-41e5-e927-f6e86973de05"
   },
   "outputs": [
    {
     "data": {
      "text/html": [
       "\n",
       "  <div id=\"df-44fa3398-27f6-41c3-82b4-4d283bb5ac77\">\n",
       "    <div class=\"colab-df-container\">\n",
       "      <div>\n",
       "<style scoped>\n",
       "    .dataframe tbody tr th:only-of-type {\n",
       "        vertical-align: middle;\n",
       "    }\n",
       "\n",
       "    .dataframe tbody tr th {\n",
       "        vertical-align: top;\n",
       "    }\n",
       "\n",
       "    .dataframe thead th {\n",
       "        text-align: right;\n",
       "    }\n",
       "</style>\n",
       "<table border=\"1\" class=\"dataframe\">\n",
       "  <thead>\n",
       "    <tr style=\"text-align: right;\">\n",
       "      <th></th>\n",
       "      <th>Model</th>\n",
       "      <th>Accuracy</th>\n",
       "      <th>Precision</th>\n",
       "      <th>recall</th>\n",
       "      <th>F1_Score</th>\n",
       "      <th>CV_recall</th>\n",
       "    </tr>\n",
       "  </thead>\n",
       "  <tbody>\n",
       "    <tr>\n",
       "      <th>0</th>\n",
       "      <td>LogisticRegression(random_state=42)</td>\n",
       "      <td>0.726667</td>\n",
       "      <td>0.204320</td>\n",
       "      <td>0.654199</td>\n",
       "      <td>0.311387</td>\n",
       "      <td>0.700101</td>\n",
       "    </tr>\n",
       "    <tr>\n",
       "      <th>1</th>\n",
       "      <td>DecisionTreeClassifier(max_depth=20)</td>\n",
       "      <td>0.824467</td>\n",
       "      <td>0.297130</td>\n",
       "      <td>0.628440</td>\n",
       "      <td>0.403489</td>\n",
       "      <td>0.843262</td>\n",
       "    </tr>\n",
       "    <tr>\n",
       "      <th>2</th>\n",
       "      <td>RandomForestClassifier(criterion='entropy', ma...</td>\n",
       "      <td>0.905567</td>\n",
       "      <td>0.500149</td>\n",
       "      <td>0.592096</td>\n",
       "      <td>0.542252</td>\n",
       "      <td>0.904627</td>\n",
       "    </tr>\n",
       "    <tr>\n",
       "      <th>3</th>\n",
       "      <td>KNeighborsClassifier()</td>\n",
       "      <td>0.784933</td>\n",
       "      <td>0.246568</td>\n",
       "      <td>0.621030</td>\n",
       "      <td>0.352988</td>\n",
       "      <td>0.832829</td>\n",
       "    </tr>\n",
       "    <tr>\n",
       "      <th>4</th>\n",
       "      <td>GaussianNB()</td>\n",
       "      <td>0.657100</td>\n",
       "      <td>0.173257</td>\n",
       "      <td>0.697248</td>\n",
       "      <td>0.277548</td>\n",
       "      <td>0.678150</td>\n",
       "    </tr>\n",
       "    <tr>\n",
       "      <th>5</th>\n",
       "      <td>AdaBoostClassifier(learning_rate=0.1, n_estima...</td>\n",
       "      <td>0.940133</td>\n",
       "      <td>0.720476</td>\n",
       "      <td>0.598447</td>\n",
       "      <td>0.653816</td>\n",
       "      <td>0.803210</td>\n",
       "    </tr>\n",
       "    <tr>\n",
       "      <th>6</th>\n",
       "      <td>XGBClassifier(early_stopping_rounds=10, num_bo...</td>\n",
       "      <td>0.910667</td>\n",
       "      <td>0.523461</td>\n",
       "      <td>0.606210</td>\n",
       "      <td>0.561805</td>\n",
       "      <td>0.848472</td>\n",
       "    </tr>\n",
       "    <tr>\n",
       "      <th>7</th>\n",
       "      <td>&lt;catboost.core.CatBoostClassifier object at 0x...</td>\n",
       "      <td>0.930367</td>\n",
       "      <td>0.634915</td>\n",
       "      <td>0.618560</td>\n",
       "      <td>0.626631</td>\n",
       "      <td>0.809928</td>\n",
       "    </tr>\n",
       "  </tbody>\n",
       "</table>\n",
       "</div>\n",
       "      <button class=\"colab-df-convert\" onclick=\"convertToInteractive('df-44fa3398-27f6-41c3-82b4-4d283bb5ac77')\"\n",
       "              title=\"Convert this dataframe to an interactive table.\"\n",
       "              style=\"display:none;\">\n",
       "        \n",
       "  <svg xmlns=\"http://www.w3.org/2000/svg\" height=\"24px\"viewBox=\"0 0 24 24\"\n",
       "       width=\"24px\">\n",
       "    <path d=\"M0 0h24v24H0V0z\" fill=\"none\"/>\n",
       "    <path d=\"M18.56 5.44l.94 2.06.94-2.06 2.06-.94-2.06-.94-.94-2.06-.94 2.06-2.06.94zm-11 1L8.5 8.5l.94-2.06 2.06-.94-2.06-.94L8.5 2.5l-.94 2.06-2.06.94zm10 10l.94 2.06.94-2.06 2.06-.94-2.06-.94-.94-2.06-.94 2.06-2.06.94z\"/><path d=\"M17.41 7.96l-1.37-1.37c-.4-.4-.92-.59-1.43-.59-.52 0-1.04.2-1.43.59L10.3 9.45l-7.72 7.72c-.78.78-.78 2.05 0 2.83L4 21.41c.39.39.9.59 1.41.59.51 0 1.02-.2 1.41-.59l7.78-7.78 2.81-2.81c.8-.78.8-2.07 0-2.86zM5.41 20L4 18.59l7.72-7.72 1.47 1.35L5.41 20z\"/>\n",
       "  </svg>\n",
       "      </button>\n",
       "      \n",
       "  <style>\n",
       "    .colab-df-container {\n",
       "      display:flex;\n",
       "      flex-wrap:wrap;\n",
       "      gap: 12px;\n",
       "    }\n",
       "\n",
       "    .colab-df-convert {\n",
       "      background-color: #E8F0FE;\n",
       "      border: none;\n",
       "      border-radius: 50%;\n",
       "      cursor: pointer;\n",
       "      display: none;\n",
       "      fill: #1967D2;\n",
       "      height: 32px;\n",
       "      padding: 0 0 0 0;\n",
       "      width: 32px;\n",
       "    }\n",
       "\n",
       "    .colab-df-convert:hover {\n",
       "      background-color: #E2EBFA;\n",
       "      box-shadow: 0px 1px 2px rgba(60, 64, 67, 0.3), 0px 1px 3px 1px rgba(60, 64, 67, 0.15);\n",
       "      fill: #174EA6;\n",
       "    }\n",
       "\n",
       "    [theme=dark] .colab-df-convert {\n",
       "      background-color: #3B4455;\n",
       "      fill: #D2E3FC;\n",
       "    }\n",
       "\n",
       "    [theme=dark] .colab-df-convert:hover {\n",
       "      background-color: #434B5C;\n",
       "      box-shadow: 0px 1px 3px 1px rgba(0, 0, 0, 0.15);\n",
       "      filter: drop-shadow(0px 1px 2px rgba(0, 0, 0, 0.3));\n",
       "      fill: #FFFFFF;\n",
       "    }\n",
       "  </style>\n",
       "\n",
       "      <script>\n",
       "        const buttonEl =\n",
       "          document.querySelector('#df-44fa3398-27f6-41c3-82b4-4d283bb5ac77 button.colab-df-convert');\n",
       "        buttonEl.style.display =\n",
       "          google.colab.kernel.accessAllowed ? 'block' : 'none';\n",
       "\n",
       "        async function convertToInteractive(key) {\n",
       "          const element = document.querySelector('#df-44fa3398-27f6-41c3-82b4-4d283bb5ac77');\n",
       "          const dataTable =\n",
       "            await google.colab.kernel.invokeFunction('convertToInteractive',\n",
       "                                                     [key], {});\n",
       "          if (!dataTable) return;\n",
       "\n",
       "          const docLinkHtml = 'Like what you see? Visit the ' +\n",
       "            '<a target=\"_blank\" href=https://colab.research.google.com/notebooks/data_table.ipynb>data table notebook</a>'\n",
       "            + ' to learn more about interactive tables.';\n",
       "          element.innerHTML = '';\n",
       "          dataTable['output_type'] = 'display_data';\n",
       "          await google.colab.output.renderOutput(dataTable, element);\n",
       "          const docLink = document.createElement('div');\n",
       "          docLink.innerHTML = docLinkHtml;\n",
       "          element.appendChild(docLink);\n",
       "        }\n",
       "      </script>\n",
       "    </div>\n",
       "  </div>\n",
       "  "
      ],
      "text/plain": [
       "                                               Model  ...  CV_recall\n",
       "0                LogisticRegression(random_state=42)  ...   0.700101\n",
       "1               DecisionTreeClassifier(max_depth=20)  ...   0.843262\n",
       "2  RandomForestClassifier(criterion='entropy', ma...  ...   0.904627\n",
       "3                             KNeighborsClassifier()  ...   0.832829\n",
       "4                                       GaussianNB()  ...   0.678150\n",
       "5  AdaBoostClassifier(learning_rate=0.1, n_estima...  ...   0.803210\n",
       "6  XGBClassifier(early_stopping_rounds=10, num_bo...  ...   0.848472\n",
       "7  <catboost.core.CatBoostClassifier object at 0x...  ...   0.809928\n",
       "\n",
       "[8 rows x 6 columns]"
      ]
     },
     "execution_count": 40,
     "metadata": {},
     "output_type": "execute_result"
    }
   ],
   "source": [
    "# we can cross- validate our model bases on different Score parameters like Accuracy,\tPrecision,\trecall,\tF1_Score\n",
    "# but here I am using \"recall_macro\" because I think for fraud detection Recall is the good metrics.\n",
    "\n",
    "models = [clf, dt, rf, knn, gnb, ab, gb, cb] \n",
    "result = pd.DataFrame([],columns=['Model','Accuracy','Precision','recall', 'F1_Score', 'CV_recall'])\n",
    "\n",
    "def model_eval(y_test,y_pred):\n",
    "  accuracy = accuracy_score(y_test,y_pred)\n",
    "  precision = precision_score(y_test,y_pred)\n",
    "  recall = recall_score(y_test,y_pred)\n",
    "  F1_Score = f1_score(y_test,y_pred)\n",
    "  return accuracy, precision, recall, F1_Score\n",
    "\n",
    "def model_result(model, model_id, cv_unit):\n",
    "    model.fit(X_train, y_train)\n",
    "    y_pred = model.predict(X_test)\n",
    "    accuracy, precision, recall, F1_Score = model_eval(y_test, y_pred)\n",
    "    cv_recall = cross_val_score(model, X_train, y_train, scoring='recall_macro', cv=cv_unit)\n",
    "    result.loc[model_id] = [str(model),accuracy, precision, recall, F1_Score, cv_recall.mean()]\n",
    "\n",
    "for model_id, model in enumerate(models):\n",
    "    model_result(model, model_id, cv_unit=10)\n",
    "    \n",
    "result "
   ]
  },
  {
   "cell_type": "markdown",
   "metadata": {
    "id": "JnOCmScYK46j"
   },
   "source": [
    "### Problem 9: Explain why you chose your model to move forward"
   ]
  },
  {
   "cell_type": "code",
   "execution_count": null,
   "metadata": {
    "colab": {
     "base_uri": "https://localhost:8080/"
    },
    "id": "JpGSq92VK8vi",
    "outputId": "c5d29a58-4dd7-4226-a50a-cd814aba4c83"
   },
   "outputs": [
    {
     "name": "stdout",
     "output_type": "stream",
     "text": [
      "\n",
      "So, if we are only concerned about capturing Fraud, then recall is good; \n",
      "Otherwise, we should consider F1 score as it balances recall & precision both; \n",
      "So, it totally depends on the business use case; either recall or F1 score.\n",
      "\n",
      "Based on the model performance, we can select the CatBoostClassifier because \n",
      "it is giving best recall score and Precision is also good compare to other model,\n",
      "overall gives good F1_score.\n",
      "\n",
      "Another reason is, it is based on tree based model, \n",
      "because in our case after label encoding, some features have high scale and some\n",
      "having low. So its better to use tree based model because it is not affected by \n",
      "the feature scale.\n",
      "\n"
     ]
    }
   ],
   "source": [
    "print(\"\"\"\n",
    "So, if we are only concerned about capturing Fraud, then recall is good; \n",
    "Otherwise, we should consider F1 score as it balances recall & precision both; \n",
    "So, it totally depends on the business use case; either recall or F1 score.\n",
    "\n",
    "Based on the model performance, we can select the CatBoostClassifier because \n",
    "it is giving best recall score and Precision is also good compare to other model,\n",
    "overall gives good F1_score.\n",
    "\n",
    "Another reason is, it is based on tree based model, \n",
    "because in our case after label encoding, some features have high scale and some\n",
    "having low. So its better to use tree based model because it is not affected by \n",
    "the feature scale.\n",
    "\"\"\")"
   ]
  },
  {
   "cell_type": "code",
   "execution_count": null,
   "metadata": {
    "colab": {
     "base_uri": "https://localhost:8080/"
    },
    "id": "4yTVh2wyWann",
    "outputId": "b1d4cd14-5783-424a-c65d-8e54d7706de1"
   },
   "outputs": [
    {
     "name": "stdout",
     "output_type": "stream",
     "text": [
      "best mean cross-validation score: 0.9557777777777778\n",
      "best parameters: {'learning_rate': 0.03, 'iterations': 80, 'depth': 6}\n",
      "test-set score: 0.958\n",
      "              precision    recall  f1-score   support\n",
      "\n",
      "           0       0.96      1.00      0.98     27159\n",
      "           1       1.00      0.55      0.71      2841\n",
      "\n",
      "    accuracy                           0.96     30000\n",
      "   macro avg       0.98      0.78      0.85     30000\n",
      "weighted avg       0.96      0.96      0.95     30000\n",
      "\n"
     ]
    }
   ],
   "source": [
    "# Hyperparameter tuning  \n",
    "# I have used RandomizedSearchCV because it take less time in processing when you\n",
    "# didn't have GPU but we can use GridSearchCV also. \n",
    "\n",
    "\n",
    "# Here we are passing our resampling data through pipeline to avoid data leakage.\n",
    "\n",
    "\n",
    "from sklearn.model_selection import GridSearchCV, RandomizedSearchCV\n",
    "from catboost import CatBoostClassifier\n",
    "from imblearn.pipeline import Pipeline as imbpipeline\n",
    "\n",
    "# Split of the test set \n",
    "X_trainval, X_test, y_trainval, y_test = train_test_split(X, y)\n",
    "\n",
    "pipeline = imbpipeline(steps = [['smote', SMOTE(random_state=4)],\n",
    "                                ['cb', CatBoostClassifier(loss_function='Logloss', \n",
    "                                                          eval_metric='f1',\n",
    "                                                          early_stopping_rounds=10)]])\n",
    "\n",
    "stratified_kfold = StratifiedKFold(n_splits=5,\n",
    "                                   shuffle=True,\n",
    "                                   random_state=4)\n",
    "# define the parameter grid \n",
    "param_grid ={'depth'         : [2,3,4,5,6,8,9,10,],\n",
    "             'learning_rate' : [0.01,0.02,0.03,0.04],\n",
    "             'iterations'    : [10, 20,30,40,50,60,70,80,90, 100]\n",
    "            }\n",
    "\n",
    "# Instantiate GridSearchCV - sets up the parameters on how to run \n",
    "grid = RandomizedSearchCV(estimator=cb, param_distributions = param_grid, \n",
    "                          cv = stratified_kfold, n_jobs=-1)\n",
    "# Execute the search (and retrain the final model) \n",
    "grid.fit(X_trainval, y_trainval)\n",
    "\n",
    "print(f\"best mean cross-validation score: {grid.best_score_}\")\n",
    "print(f\"best parameters: {grid.best_params_}\")\n",
    "\n",
    "# do a final evaluation on the test set \n",
    "print(f\"test-set score: {grid.score(X_test, y_test):.3f}\")\n",
    "\n",
    "preds = grid.predict(X_test)\n",
    "\n",
    "print(classification_report(y_test, preds))"
   ]
  },
  {
   "cell_type": "code",
   "execution_count": null,
   "metadata": {
    "colab": {
     "base_uri": "https://localhost:8080/"
    },
    "id": "RjHpUNAgeYVv",
    "outputId": "e8311ed3-2f66-4280-efcc-9403919aab69"
   },
   "outputs": [
    {
     "name": "stdout",
     "output_type": "stream",
     "text": [
      "\n",
      "I have tried to tune our model and in this way we are able to improve overall F1-score(i.e 71% from the 62%)\n",
      "but in this case aur recall is getting reduce compare to the base model.\n",
      "But its depend upon the business case we have to select the metrics and try to tune it accordingly.\n",
      "\n"
     ]
    }
   ],
   "source": [
    "print(\"\"\"\n",
    "I have tried to tune our model and in this way we are able to improve overall F1-score(i.e 71% from the 62%)\n",
    "but in this case aur recall is getting reduce compare to the base model.\n",
    "But its depend upon the business case we have to select the metrics and try to tune it accordingly.\n",
    "\"\"\")"
   ]
  },
  {
   "cell_type": "markdown",
   "metadata": {
    "id": "FQXTFuuZmvjS"
   },
   "source": [
    "### Problem 10: Next Steps\n",
    "Open-ended Question: What would you do to improve this model in data processing steps, feature engineering steps, and/or modeling stage? "
   ]
  },
  {
   "cell_type": "code",
   "execution_count": 1,
   "metadata": {
    "colab": {
     "base_uri": "https://localhost:8080/"
    },
    "id": "DGEWTQBemvjT",
    "outputId": "b21cd61a-9d75-4e13-fb5a-1c1bf4d60679"
   },
   "outputs": [
    {
     "name": "stdout",
     "output_type": "stream",
     "text": [
      "\n",
      "In Data processing steps/feature engineering steps: \n",
      "-I will try to use 'Target Guided Ordinal Encoding' instead of 'Label Encoding'\n",
      "because it is performing better when we have high cardinality in a columns.\n",
      "\n",
      "- I will try to check which column is not affecting much to the dependent variable,\n",
      "and drop that column for better accuracy.\n",
      "\n",
      "-I will try to collect more data from different sources to make it as a balance dataset.\n",
      "\n",
      "-Try to understand how the \"elapsed_time\" columns is related to this problem\n",
      "(because the description of this column is missing in the file).\n",
      "\n",
      "In modeling stage:\n",
      "- I will try to balance the dataset by using different resampling technique in a pipeline\n",
      "to save data leakage in cross-validation.\n",
      "-We can try lot of things in this section, but main thing is hyperparameter tuning \n",
      "which will be the game changer for metrics purpose.\n",
      "-We will build as many possible models and compare then with AUC-ROC curve, \n",
      "try to find the best thresshold value for the model. and select the model based on that.\n",
      "- We can try multiple model in horizontal scale means Stacking, in this way we will boost our model\n",
      "and same way we can try multiple models in the gradiant boosting to improve the weak predictions.\n",
      "- And we can try different Cross-Validation method to get the best average value.\n",
      "\n"
     ]
    }
   ],
   "source": [
    "print(\"\"\"\n",
    "In Data processing steps/feature engineering steps: \n",
    "-I will try to use 'Target Guided Ordinal Encoding' instead of 'Label Encoding'\n",
    "because it is performing better when we have high cardinality in a columns.\n",
    "\n",
    "- I will try to check which column is not affecting much to the dependent variable,\n",
    "and drop that column for better accuracy.\n",
    "\n",
    "-I will try to collect more data from different sources to make it as a balance dataset.\n",
    "\n",
    "-Try to understand how the \"elapsed_time\" columns is related to this problem\n",
    "(because the description of this column is missing in the file).\n",
    "\n",
    "In modeling stage:\n",
    "- I will try to balance the dataset by using different resampling technique in a pipeline\n",
    "to save data leakage in cross-validation.\n",
    "-We can try lot of things in this section, but main thing is hyperparameter tuning \n",
    "which will be the game changer for metrics purpose.\n",
    "-We will build as many possible models and compare then with AUC-ROC curve, \n",
    "try to find the best thresshold value for the model. and select the model based on that.\n",
    "- We can try multiple model in horizontal scale means Stacking, in this way we will boost our model\n",
    "and same way we can try multiple models in the gradiant boosting to improve the weak predictions.\n",
    "- And we can try different Cross-Validation method to get the best average value.\n",
    "\"\"\")"
   ]
  }
 ],
 "metadata": {
  "accelerator": "GPU",
  "colab": {
   "collapsed_sections": [],
   "name": "fraud_assessment_candidate.ipynb",
   "provenance": []
  },
  "kernelspec": {
   "display_name": "Python 3",
   "language": "python",
   "name": "python3"
  },
  "language_info": {
   "codemirror_mode": {
    "name": "ipython",
    "version": 3
   },
   "file_extension": ".py",
   "mimetype": "text/x-python",
   "name": "python",
   "nbconvert_exporter": "python",
   "pygments_lexer": "ipython3",
   "version": "3.8.5"
  },
  "latex_envs": {
   "LaTeX_envs_menu_present": true,
   "autoclose": false,
   "autocomplete": true,
   "bibliofile": "biblio.bib",
   "cite_by": "apalike",
   "current_citInitial": 1,
   "eqLabelWithNumbers": true,
   "eqNumInitial": 1,
   "hotkeys": {
    "equation": "Ctrl-E",
    "itemize": "Ctrl-I"
   },
   "labels_anchors": false,
   "latex_user_defs": false,
   "report_style_numbering": false,
   "user_envs_cfg": false
  },
  "toc": {
   "base_numbering": 1,
   "nav_menu": {},
   "number_sections": true,
   "sideBar": true,
   "skip_h1_title": false,
   "title_cell": "Table of Contents",
   "title_sidebar": "Contents",
   "toc_cell": false,
   "toc_position": {},
   "toc_section_display": true,
   "toc_window_display": false
  }
 },
 "nbformat": 4,
 "nbformat_minor": 1
}
